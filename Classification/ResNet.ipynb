{
 "cells": [
  {
   "cell_type": "markdown",
   "metadata": {},
   "source": [
    "# This is an exmaple of how Resnet is build by Tensorflow 2"
   ]
  },
  {
   "cell_type": "raw",
   "metadata": {},
   "source": [
    "ResNet面试题:\n",
    "1. 描述下什么是Resnet\n",
    "    ResNet获得2015年ImageNet比赛的冠军，主要创新点在于设计了一种使用了skip connection的残差结构，使得网络达到很深的层次，同时提升了性能。\n",
    "    神经网络随着层数的增加，显示出退化问题，即深层次的网络反而不如稍浅层次的网络性能；而且这并非是过拟合导致的，因为在训练集上就显示出退化差距。所以，一种直觉是：如果神经网络能够轻松的实现层次间的等效映射，即一个block的输入等于这个block的输出，那么更深层次的网络也就不应该出现比浅层网络性能更差的退化问题。所以何博士等设计了一种skip connection结构，使得网络具有更强的identity mapping的能力，从而拓展了网络的深度，同时也提升了网络的性能。\n",
    "    \n",
    "2. 为什么Resnet优秀\n",
    "    (1).可以用来构建非常深的网络, 有效的避免梯度消失和梯度爆炸\n",
    "    (2).提示训练速度.\n",
    "\n",
    "3. 具体说明下残存的概念\n",
    "    恺明先生在提出ResNet时做出了这样的假设:若某一较深的网络多出另一较浅网络的若干层有能力学习到恒等映射,那么这一较深网络训练得到的模型性能一定不会弱于该浅层网络.通俗的说就是如果对某一网络中增添一些可以学到恒等映射的层组成新的网路,那么最差的结果也是新网络中的这些层在训练后成为恒等映射而不会影响原网络的性能.\n",
    "\n",
    "4. ResNet中为什么会有两种Block, basic building block 和 bottleneck building block\n",
    "\n",
    "5. ResNet中的残差如何进行反向传播\n"
   ]
  },
  {
   "attachments": {
    "image.png": {
     "image/png": "[encoded data removed]"
    }
   },
   "cell_type": "markdown",
   "metadata": {},
   "source": [
    "![image.png](attachment:image.png)"
   ]
  },
  {
   "cell_type": "code",
   "execution_count": 2,
   "metadata": {},
   "outputs": [
    {
     "name": "stdout",
     "output_type": "stream",
     "text": [
      "2.1.0\n",
      "2.2.4-tf\n"
     ]
    }
   ],
   "source": [
    "import tensorflow as tf\n",
    "from tensorflow.keras import *\n",
    "\n",
    "print(tf.__version__)\n",
    "print(tf.keras.__version__)"
   ]
  },
  {
   "cell_type": "code",
   "execution_count": 27,
   "metadata": {},
   "outputs": [],
   "source": [
    "class BasicBlock(layers.Layer):\n",
    "    def __init__(self, filter_num, stride=1, **kwargs):\n",
    "        self.layer_conv1 = layers.Conv2D(filters=filter_num, kernel_size=(3, 3), strides=stride, padding=\"same\")\n",
    "        self.layer_bn1 = layers.BatchNormalization()\n",
    "        self.layer_conv2 = layers.Conv2D(filters=filter_num, kernel_size=(3, 3), strides=1, padding=\"same\")\n",
    "        self.layer_bn2 = layers.BatchNormalization()\n",
    "        self.layer_relu = layers.Activation('relu')\n",
    "        if stride != 1: # Size of main path and residual path are not matched\n",
    "            self.layer_downsample = Sequential()\n",
    "            self.layer_downsample.add(layers.Conv2D(filters=filter_num, kernel_size=(1, 1), strides=stride))\n",
    "            self.layer_downsample.add(layers.BatchNormalization())\n",
    "        else:\n",
    "            self.layer_downsample = lambda x: x\n",
    "        super().__init__(**kwargs)\n",
    "\n",
    "    def call(self, inputs, training=None, **kwargs):\n",
    "        residual = self.layer_downsample(inputs)\n",
    "\n",
    "        x = self.layer_conv1(inputs)\n",
    "        x = self.layer_bn1(x, training=training)\n",
    "        x = self.layer_relu(x)\n",
    "        x = self.layer_conv2(x)\n",
    "        x = self.layer_bn2(x, training=training)\n",
    "        x = self.layer_relu(layers.add([residual, x]))\n",
    "        \n",
    "        return x\n",
    "    \n",
    "class BottleNeck(layers.Layer):\n",
    "    def __init__(self, filter_num, stride=1, **kwargs):\n",
    "        self.layer_conv1 = layers.Conv2D(filters=filter_num, kernel_size=(1, 1), strides=1, padding='same')\n",
    "        self.layer_bn1 = layers.BatchNormalization()\n",
    "        self.layer_conv2 = layers.Conv2D(filters=filter_num, kernel_size=(3, 3), strides=stride, padding='same')\n",
    "        self.layer_bn2 = layers.BatchNormalization()\n",
    "        self.layer_conv3 = layers.Conv2D(filters=filter_num * 4, kernel_size=(1, 1), strides=1, padding='same')\n",
    "        self.layer_bn3 = layers.BatchNormalization()\n",
    "        self.layer_relu = layers.Activation('relu')\n",
    "        self.layer_downsample = Sequential()\n",
    "        self.layer_downsample.add(layers.Conv2D(filters=filter_num * 4, kernel_size=(1, 1), strides=stride))\n",
    "        self.layer_downsample.add(layers.BatchNormalization())\n",
    "        super().__init__(**kwargs)\n",
    "\n",
    "    def call(self, inputs, training=None, **kwargs):\n",
    "        residual = self.layer_downsample(inputs)\n",
    "        x = self.layer_conv1(inputs)\n",
    "        x = self.layer_bn1(x, training=training)\n",
    "        x = self.layer_relu(x)\n",
    "        x = self.layer_conv2(x)\n",
    "        x = self.layer_bn2(x, training=training)\n",
    "        x = self.layer_relu(x)\n",
    "        x = self.layer_conv3(x)\n",
    "        x = self.layer_bn3(x, training=training)\n",
    "        x = self.layer_relu(layers.add([residual, x]))\n",
    "        return x\n",
    "\n",
    "class BasicBlocks(layers.Layer):\n",
    "    def __init__(self, filter_num, blocks, stride=1, **kwargs):\n",
    "        self.layer_res_block = Sequential()\n",
    "        for i in range(blocks):\n",
    "            self.layer_res_block.add(BasicBlock(filter_num, stride=(stride if i==0 else 1)))\n",
    "        super().__init__(**kwargs)\n",
    "\n",
    "    def call(self, inputs, training=None, **kwargs):\n",
    "        return self.layer_res_block(inputs)\n",
    "    \n",
    "class BottleNecks(layers.Layer):\n",
    "    def __init__(self, filter_num, blocks, stride=1, **kwargs):\n",
    "        self.layer_res_block = Sequential()\n",
    "        for i in range(blocks):\n",
    "            self.layer_res_block.add(BottleNeck(filter_num, stride=(stride if i==0 else 1)))\n",
    "        super().__init__(**kwargs)\n",
    "\n",
    "    def call(self, inputs, training=None, **kwargs):\n",
    "        return self.layer_res_block(inputs)\n",
    "\n",
    "\n",
    "    \n",
    "def ResNetTypeI(input_shape, layer_params, num_classes=10, name = ''):\n",
    "    inputs = layers.Input(shape=input_shape)\n",
    "    x = layers.Conv2D(filters=64, kernel_size=(7, 7), strides=2, padding=\"same\", name='conv1')(inputs)\n",
    "    x = layers.BatchNormalization(name='bn1')(x)\n",
    "    x = layers.Activation('relu', name='relu1')(x)\n",
    "    x = layers.MaxPool2D(pool_size=(3, 3), strides=2, padding=\"same\", name='maxpool1')(x)\n",
    "    x = BasicBlocks(filter_num=64, blocks=layer_params[0], name='BasicBlocks1')(x)\n",
    "    x = BasicBlocks(filter_num=128, blocks=layer_params[1], stride=2, name='BasicBlocks2')(x)\n",
    "    x = BasicBlocks(filter_num=256, blocks=layer_params[2], stride=2, name='BasicBlocks3')(x)\n",
    "    x = BasicBlocks(filter_num=512, blocks=layer_params[3], stride=2, name='BasicBlocks4')(x)\n",
    "    x = layers.GlobalAveragePooling2D(name='gap')(x)\n",
    "    x = layers.Dense(units=num_classes, activation=activations.softmax, name='fc')(x)\n",
    "    \n",
    "    return Model(inputs, x, name=name)\n",
    "\n",
    "\n",
    "def ResNetTypeII(input_shape, layer_params, num_classes=10, name = ''):\n",
    "    inputs = layers.Input(shape=input_shape)\n",
    "    x = layers.Conv2D(filters=64, kernel_size=(7, 7), strides=2, padding=\"same\", name='conv1')(inputs)\n",
    "    x = layers.BatchNormalization(name='bn1')(x)\n",
    "    x = layers.Activation('relu', name='relu1')(x)\n",
    "    x = layers.MaxPool2D(pool_size=(3, 3), strides=2, padding=\"same\", name='maxpool1')(x)\n",
    "    x = BottleNecks(filter_num=64, blocks=layer_params[0], name='BottleNecks1')(x)\n",
    "    x = BottleNecks(filter_num=128, blocks=layer_params[1], stride=2, name='BottleNecks2')(x)\n",
    "    x = BottleNecks(filter_num=256, blocks=layer_params[2], stride=2, name='BottleNecks3')(x)\n",
    "    x = BottleNecks(filter_num=512, blocks=layer_params[3], stride=2, name='BottleNecks4')(x)\n",
    "    x = layers.GlobalAveragePooling2D(name='gap')(x)\n",
    "    x = layers.Dense(units=num_classes, activation=activations.softmax, name='fc')(x)\n",
    "    \n",
    "    return Model(inputs, x, name=name)\n",
    "\n",
    "\n",
    "def resnet_18():\n",
    "    return ResNetTypeI((256, 256, 3), layer_params=[2, 2, 2, 2], num_classes=1000, name='resnet18')\n",
    "\n",
    "def resnet_34():\n",
    "    return ResNetTypeI((256, 256, 3), layer_params=[3, 4, 6, 3], num_classes=1000, name='resnet34')\n",
    "\n",
    "def resnet_50():\n",
    "    return ResNetTypeII((256, 256, 3), layer_params=[3, 4, 6, 3], num_classes=1000, name='resnet50')\n",
    "\n",
    "def resnet_101():\n",
    "    return ResNetTypeII((256, 256, 3), layer_params=[3, 4, 23, 3], num_classes=1000, name='resnet101')\n",
    "\n",
    "def resnet_152():\n",
    "    return ResNetTypeII((256, 256, 3), layer_params=[3, 8, 36, 3], num_classes=1000, name='resnet152')"
   ]
  },
  {
   "cell_type": "code",
   "execution_count": 30,
   "metadata": {},
   "outputs": [
    {
     "name": "stdout",
     "output_type": "stream",
     "text": [
      "Model: \"resnet18\"\n",
      "_________________________________________________________________\n",
      "Layer (type)                 Output Shape              Param #   \n",
      "=================================================================\n",
      "input_11 (InputLayer)        [(None, 256, 256, 3)]     0         \n",
      "_________________________________________________________________\n",
      "conv1 (Conv2D)               (None, 128, 128, 64)      9472      \n",
      "_________________________________________________________________\n",
      "bn1 (BatchNormalization)     (None, 128, 128, 64)      256       \n",
      "_________________________________________________________________\n",
      "relu1 (Activation)           (None, 128, 128, 64)      0         \n",
      "_________________________________________________________________\n",
      "maxpool1 (MaxPooling2D)      (None, 64, 64, 64)        0         \n",
      "_________________________________________________________________\n",
      "BasicBlocks1 (BasicBlocks)   (None, 64, 64, 64)        148736    \n",
      "_________________________________________________________________\n",
      "BasicBlocks2 (BasicBlocks)   (None, 32, 32, 128)       527488    \n",
      "_________________________________________________________________\n",
      "BasicBlocks3 (BasicBlocks)   (None, 16, 16, 256)       2103552   \n",
      "_________________________________________________________________\n",
      "BasicBlocks4 (BasicBlocks)   (None, 8, 8, 512)         8401408   \n",
      "_________________________________________________________________\n",
      "gap (GlobalAveragePooling2D) (None, 512)               0         \n",
      "_________________________________________________________________\n",
      "fc (Dense)                   (None, 1000)              513000    \n",
      "=================================================================\n",
      "Total params: 11,703,912\n",
      "Trainable params: 11,694,312\n",
      "Non-trainable params: 9,600\n",
      "_________________________________________________________________\n"
     ]
    }
   ],
   "source": [
    "resnet_18().summary()"
   ]
  },
  {
   "cell_type": "code",
   "execution_count": null,
   "metadata": {},
   "outputs": [],
   "source": []
  }
 ],
 "metadata": {
  "kernelspec": {
   "display_name": "Python 3",
   "language": "python",
   "name": "python3"
  },
  "language_info": {
   "codemirror_mode": {
    "name": "ipython",
    "version": 3
   },
   "file_extension": ".py",
   "mimetype": "text/x-python",
   "name": "python",
   "nbconvert_exporter": "python",
   "pygments_lexer": "ipython3",
   "version": "3.7.4"
  }
 },
 "nbformat": 4,
 "nbformat_minor": 4
}
