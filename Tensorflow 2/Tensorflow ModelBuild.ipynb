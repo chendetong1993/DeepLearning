{
 "cells": [
  {
   "cell_type": "markdown",
   "metadata": {},
   "source": [
    "# 模型叠加"
   ]
  },
  {
   "cell_type": "code",
   "execution_count": null,
   "metadata": {},
   "outputs": [],
   "source": [
    "import tensorflow as tf\n",
    "from tensorflow.keras import layers\n",
    "\n",
    "#方法一\n",
    "model = tf.keras.Sequential()\n",
    "model.add(layers.Flatten(input_shape=(28, 28)))\n",
    "model.add(layers.Dense(128, activation='relu'))\n",
    "model.add(layers.Dropout(0.2))\n",
    "model.add(layers.Dense(10, activation='softmax'))\n",
    "model.summary()\n",
    "\n",
    "#方法二\n",
    "model = tf.keras.models.Sequential([\n",
    "  layers.Flatten(input_shape=(28, 28)),\n",
    "  layers.Dense(128, activation='relu'),\n",
    "  layers.Dropout(0.2),\n",
    "  layers.Dense(10, activation='softmax')\n",
    "])\n",
    "model.summary()"
   ]
  },
  {
   "cell_type": "markdown",
   "metadata": {},
   "source": [
    "# 函数式api"
   ]
  },
  {
   "cell_type": "code",
   "execution_count": null,
   "metadata": {},
   "outputs": [],
   "source": [
    "import tensorflow as tf\n",
    "from tensorflow.keras import layers\n",
    "\n",
    "input_x = tf.keras.Input(shape=(72,))\n",
    "hidden1 = layers.Dense(32, activation='relu')(input_x)\n",
    "hidden2 = layers.Dense(16, activation='relu')(hidden1)\n",
    "pred = layers.Dense(10, activation='softmax')(hidden2)\n",
    "\n",
    "model = tf.keras.Model(inputs=input_x, outputs=pred)\n",
    "model.summary()"
   ]
  },
  {
   "cell_type": "markdown",
   "metadata": {},
   "source": [
    "# 单个图层图来生成多个模型"
   ]
  },
  {
   "cell_type": "code",
   "execution_count": null,
   "metadata": {},
   "outputs": [],
   "source": [
    "import tensorflow as tf\n",
    "from tensorflow.keras import layers\n",
    "\n",
    "\n",
    "# 编码器网络和自编码器网络\n",
    "encode_input = tf.keras.Input(shape=(28,28,1), name='img')\n",
    "h1 = layers.Conv2D(16, 3, activation='relu')(encode_input)\n",
    "h1 = layers.Conv2D(32, 3, activation='relu')(h1)\n",
    "h1 = layers.MaxPool2D(3)(h1)\n",
    "h1 = layers.Conv2D(32, 3, activation='relu')(h1)\n",
    "h1 = layers.Conv2D(16, 3, activation='relu')(h1)\n",
    "encode_output = layers.GlobalMaxPool2D()(h1)\n",
    "\n",
    "encode_model = tf.keras.Model(inputs=encode_input, outputs=encode_output, name='encoder')\n",
    "encode_model.summary()\n",
    "\n",
    "h2 = layers.Reshape((4, 4, 1))(encode_output)\n",
    "h2 = layers.Conv2DTranspose(16, 3, activation='relu')(h2)\n",
    "h2 = layers.Conv2DTranspose(32, 3, activation='relu')(h2)\n",
    "h2 = layers.UpSampling2D(3)(h2)\n",
    "h2 = layers.Conv2DTranspose(16, 3, activation='relu')(h2)\n",
    "decode_output = layers.Conv2DTranspose(1, 3, activation='relu')(h2)\n",
    "\n",
    "autoencoder = tf.keras.Model(inputs=encode_input, outputs=decode_output, name='autoencoder')\n",
    "autoencoder.summary()\n"
   ]
  },
  {
   "cell_type": "markdown",
   "metadata": {},
   "source": [
    "# 整个模型当作一层网络使用"
   ]
  },
  {
   "cell_type": "code",
   "execution_count": null,
   "metadata": {},
   "outputs": [],
   "source": [
    "import tensorflow as tf\n",
    "from tensorflow.keras import layers\n",
    "\n",
    "encode_input = tf.keras.Input(shape=(28,28,1), name='src_img')\n",
    "h1 = layers.Conv2D(16, 3, activation='relu')(encode_input)\n",
    "h1 = layers.Conv2D(32, 3, activation='relu')(h1)\n",
    "h1 = layers.MaxPool2D(3)(h1)\n",
    "h1 = layers.Conv2D(32, 3, activation='relu')(h1)\n",
    "h1 = layers.Conv2D(16, 3, activation='relu')(h1)\n",
    "encode_output = layers.GlobalMaxPool2D()(h1)\n",
    "\n",
    "encode_model = tf.keras.Model(inputs=encode_input, outputs=encode_output, name='encoder')\n",
    "encode_model.summary()\n",
    "\n",
    "decode_input = tf.keras.Input(shape=(16,), name='encoded_img')\n",
    "h2 = layers.Reshape((4, 4, 1))(decode_input)\n",
    "h2 = layers.Conv2DTranspose(16, 3, activation='relu')(h2)\n",
    "h2 = layers.Conv2DTranspose(32, 3, activation='relu')(h2)\n",
    "h2 = layers.UpSampling2D(3)(h2)\n",
    "h2 = layers.Conv2DTranspose(16, 3, activation='relu')(h2)\n",
    "decode_output = layers.Conv2DTranspose(1, 3, activation='relu')(h2)\n",
    "decode_model = tf.keras.Model(inputs=decode_input, outputs=decode_output, name='decoder')\n",
    "decode_model.summary()\n",
    "\n",
    "autoencoder_input = tf.keras.Input(shape=(28,28,1), name='img')\n",
    "h3 = encode_model(autoencoder_input)\n",
    "autoencoder_output = decode_model(h3)\n",
    "autoencoder = tf.keras.Model(inputs=autoencoder_input, outputs=autoencoder_output, name='autoencoder')\n",
    "autoencoder.summary()\n"
   ]
  },
  {
   "cell_type": "markdown",
   "metadata": {},
   "source": [
    "# 多输入与多输出网络"
   ]
  },
  {
   "cell_type": "code",
   "execution_count": null,
   "metadata": {},
   "outputs": [],
   "source": [
    "import tensorflow as tf\n",
    "from tensorflow.keras import layers\n",
    "import numpy as np\n",
    "\n",
    "# 构建一个根据文档内容、标签和标题，预测文档优先级和执行部门的网络\n",
    "# 超参\n",
    "num_words = 2000\n",
    "num_tags = 12\n",
    "num_departments = 4\n",
    "\n",
    "# 输入\n",
    "body_input = tf.keras.Input(shape=(None,), name='body')\n",
    "title_input = tf.keras.Input(shape=(None,), name='title')\n",
    "tag_input = tf.keras.Input(shape=(num_tags,), name='tag')\n",
    "\n",
    "# 嵌入层\n",
    "body_feat = layers.Embedding(num_words, 64)(body_input)\n",
    "title_feat = layers.Embedding(num_words, 64)(title_input)\n",
    "\n",
    "# 特征提取层\n",
    "body_feat = layers.LSTM(32)(body_feat)\n",
    "title_feat = layers.LSTM(128)(title_feat)\n",
    "features = layers.concatenate([title_feat, body_feat, tag_input])\n",
    "\n",
    "# 分类层\n",
    "priority_pred = layers.Dense(1, activation='sigmoid', name='priority')(features)\n",
    "department_pred = layers.Dense(num_departments, activation='softmax', name='department')(features)\n",
    "\n",
    "\n",
    "# 构建模型\n",
    "model = tf.keras.Model(inputs=[body_input, title_input, tag_input], outputs=[priority_pred, department_pred])\n",
    "model.summary()\n",
    "tf.keras.utils.plot_model(model, 'multi_model.png', show_shapes=True)\n",
    "model.compile(optimizer=tf.keras.optimizers.RMSprop(1e-3), \n",
    "              loss={'priority': 'binary_crossentropy', 'department': 'categorical_crossentropy'},\n",
    "              loss_weights=[1., 0.2])\n",
    "\n",
    "# 载入输入数据\n",
    "title_data = np.random.randint(num_words, size=(1280, 10))\n",
    "body_data = np.random.randint(num_words, size=(1280, 100))\n",
    "tag_data = np.random.randint(2, size=(1280, num_tags)).astype('float32')\n",
    "# 标签\n",
    "priority_label = np.random.random(size=(1280, 1))\n",
    "department_label = np.random.randint(2, size=(1280, num_departments))\n",
    "# 训练\n",
    "history = model.fit(\n",
    "    {'title': title_data, 'body':body_data, 'tag':tag_data},\n",
    "    {'priority':priority_label, 'department':department_label},\n",
    "    batch_size=32,\n",
    "    epochs=5\n",
    ")"
   ]
  },
  {
   "cell_type": "markdown",
   "metadata": {},
   "source": [
    "# 小型残差网络"
   ]
  },
  {
   "cell_type": "code",
   "execution_count": null,
   "metadata": {},
   "outputs": [],
   "source": [
    "import tensorflow as tf\n",
    "from tensorflow.keras import layers\n",
    "\n",
    "inputs = tf.keras.Input(shape=(32,32,3), name='img')\n",
    "h1 = layers.Conv2D(32, 3, activation='relu')(inputs)\n",
    "h1 = layers.Conv2D(64, 3, activation='relu')(h1)\n",
    "block1_out = layers.MaxPooling2D(3)(h1)\n",
    "\n",
    "h2 = layers.Conv2D(64, 3, activation='relu', padding='same')(block1_out)\n",
    "h2 = layers.Conv2D(64, 3, activation='relu', padding='same')(h2)\n",
    "block2_out = layers.add([h2, block1_out])\n",
    "\n",
    "h3 = layers.Conv2D(64, 3, activation='relu', padding='same')(block2_out)\n",
    "h3 = layers.Conv2D(64, 3, activation='relu', padding='same')(h3)\n",
    "block3_out = layers.add([h3, block2_out])\n",
    "\n",
    "h4 = layers.Conv2D(64, 3, activation='relu')(block3_out)\n",
    "h4 = layers.GlobalMaxPool2D()(h4)\n",
    "h4 = layers.Dense(256, activation='relu')(h4)\n",
    "h4 = layers.Dropout(0.5)(h4)\n",
    "outputs = layers.Dense(10, activation='softmax')(h4)\n",
    "\n",
    "model = tf.keras.Model(inputs, outputs, name='small resnet')\n",
    "model.summary()\n"
   ]
  },
  {
   "cell_type": "markdown",
   "metadata": {},
   "source": [
    "# 共享网络层"
   ]
  },
  {
   "cell_type": "code",
   "execution_count": 2,
   "metadata": {},
   "outputs": [
    {
     "name": "stdout",
     "output_type": "stream",
     "text": [
      "Model: \"share1\"\n",
      "_________________________________________________________________\n",
      "Layer (type)                 Output Shape              Param #   \n",
      "=================================================================\n",
      "input_1 (InputLayer)         [(None, None)]            0         \n",
      "_________________________________________________________________\n",
      "embedding_1 (Embedding)      (None, None, 64)          64000     \n",
      "=================================================================\n",
      "Total params: 64,000\n",
      "Trainable params: 64,000\n",
      "Non-trainable params: 0\n",
      "_________________________________________________________________\n",
      "Model: \"share2\"\n",
      "_________________________________________________________________\n",
      "Layer (type)                 Output Shape              Param #   \n",
      "=================================================================\n",
      "input_2 (InputLayer)         [(None, None)]            0         \n",
      "_________________________________________________________________\n",
      "embedding_1 (Embedding)      (None, None, 64)          64000     \n",
      "=================================================================\n",
      "Total params: 64,000\n",
      "Trainable params: 64,000\n",
      "Non-trainable params: 0\n",
      "_________________________________________________________________\n"
     ]
    }
   ],
   "source": [
    "import tensorflow as tf\n",
    "from tensorflow.keras import layers\n",
    "\n",
    "share_embedding = layers.Embedding(1000, 64)\n",
    "\n",
    "input1 = tf.keras.Input(shape=(None,), dtype='int32')\n",
    "input2 = tf.keras.Input(shape=(None,), dtype='int32')\n",
    "\n",
    "feat1 = share_embedding(input1)\n",
    "feat2 = share_embedding(input2)\n",
    "\n",
    "model1 = tf.keras.Model(input1, feat1, name='share1')\n",
    "model2 = tf.keras.Model(input2, feat2, name='share2')\n",
    "model1.summary()\n",
    "model2.summary()"
   ]
  },
  {
   "cell_type": "markdown",
   "metadata": {},
   "source": [
    "# 模型复用"
   ]
  },
  {
   "cell_type": "code",
   "execution_count": null,
   "metadata": {},
   "outputs": [],
   "source": [
    "from tensorflow.keras.applications import VGG16\n",
    "import tensorflow as tf\n",
    "from tensorflow.keras import layers\n",
    "\n",
    "vgg16 = VGG16()\n",
    "\n",
    "feature_list = [layer.output for layer in vgg16.layers]\n",
    "feat_ext_model = tf.keras.Model(inputs=vgg16.input, outputs=feature_list)\n",
    "\n",
    "img = np.random.random((1, 224, 224, 3).astype('float32'))\n",
    "ext_features = feat_ext_model(img)"
   ]
  },
  {
   "cell_type": "markdown",
   "metadata": {},
   "source": [
    "# 其他模型为主干"
   ]
  },
  {
   "cell_type": "code",
   "execution_count": null,
   "metadata": {},
   "outputs": [],
   "source": [
    "# import tensorflow as tf\n",
    "from tensorflow.keras import layers\n",
    "from tensorflow.keras.applications.densenet import DenseNet201,preprocess_input\n",
    "from tensorflow.keras.layers import Dense, GlobalAveragePooling2D\n",
    "from tensorflow.keras.models import Model\n",
    " \n",
    "#base_model = DenseNet(weights='imagenet', include_top=False)\n",
    "base_model = DenseNet201(include_top=False)\n",
    " \n",
    "x = base_model.output\n",
    "x = GlobalAveragePooling2D()(x)\n",
    "predictions = Dense(5, activation='softmax')(x)\n",
    "model = Model(inputs=base_model.input, outputs=predictions)\n",
    "model.summary()"
   ]
  },
  {
   "cell_type": "markdown",
   "metadata": {},
   "source": [
    "# 自定义Layer"
   ]
  },
  {
   "cell_type": "code",
   "execution_count": 26,
   "metadata": {},
   "outputs": [
    {
     "name": "stdout",
     "output_type": "stream",
     "text": [
      "Model: \"sequential_10\"\n",
      "_________________________________________________________________\n",
      "Layer (type)                 Output Shape              Param #   \n",
      "=================================================================\n",
      "my_layer1_1 (MyLayer1)       (None, 32)                1056      \n",
      "_________________________________________________________________\n",
      "my_layer2_1 (MyLayer2)       (None, 10)                320       \n",
      "_________________________________________________________________\n",
      "activity_regularization_laye (None, 10)                0         \n",
      "_________________________________________________________________\n",
      "metric_logging_layer_7 (Metr (None, 10)                0         \n",
      "_________________________________________________________________\n",
      "activation_10 (Activation)   (None, 10)                0         \n",
      "=================================================================\n",
      "Total params: 1,376\n",
      "Trainable params: 1,376\n",
      "Non-trainable params: 0\n",
      "_________________________________________________________________\n"
     ]
    }
   ],
   "source": [
    "\"\"\"\n",
    "通过对 tf.keras.layers.Layer 进行子类化并实现以下方法来创建自定义层：\n",
    "build：创建层的权重。使用 add_weight 方法添加权重。\n",
    "call：定义前向传播。\n",
    "compute_output_shape：指定在给定输入形状的情况下如何计算层的输出形状。 或者，可以通过实现 get_config 方法和 from_config 类方法序列化层。\n",
    "\"\"\"\n",
    "import tensorflow as tf\n",
    "from tensorflow.keras import layers\n",
    "from tensorflow.keras.layers import Dense, GlobalAveragePooling2D\n",
    "from tensorflow.keras.models import Model\n",
    "\n",
    "# 也可以以定义网络层的方式添加要统计的metric\n",
    "class MetricLoggingLayer(layers.Layer):\n",
    "    def call(self, inputs):\n",
    "        self.add_metric(tf.keras.backend.std(inputs), name='std_of_activation', aggregation='mean')\n",
    "        return inputs\n",
    "\n",
    "# 以定义网络层的方式添加网络loss\n",
    "class ActivityRegularizationLayer(layers.Layer):\n",
    "    def call(self, inputs):\n",
    "        self.add_loss(tf.reduce_sum(inputs) * 0.1)\n",
    "        return inputs\n",
    "\n",
    "\n",
    "class MyLayer1(layers.Layer):\n",
    "    def __init__(self, input_dim=32, unit=32):\n",
    "        super().__init__()\n",
    "        \n",
    "        w_init = tf.random_normal_initializer()\n",
    "        self.weight = tf.Variable(initial_value=w_init(shape=(input_dim, unit), dtype=tf.float32), trainable=True)\n",
    "        \n",
    "        b_init = tf.zeros_initializer()\n",
    "        self.bias = tf.Variable(initial_value=b_init(shape=(unit,), dtype=tf.float32), trainable=True)\n",
    "    \n",
    "    def call(self, inputs):\n",
    "        return tf.matmul(inputs, self.weight) + self.bias\n",
    "        \n",
    "class MyLayer2(layers.Layer):\n",
    "    def __init__(self, output_dim, **kwargs):\n",
    "        self.output_dim = output_dim\n",
    "        super().__init__(**kwargs)\n",
    "\n",
    "    def build(self, input_shape):\n",
    "        shape = tf.TensorShape((input_shape[1], self.output_dim))\n",
    "        self.kernel = self.add_weight(name='kernel1', shape=shape, initializer='uniform', trainable=True)\n",
    "        super().build(input_shape)\n",
    "\n",
    "    def call(self, inputs):\n",
    "        return tf.matmul(inputs, self.kernel)\n",
    "\n",
    "    def compute_output_shape(self, input_shape):\n",
    "        shape = tf.TensorShape(input_shape).as_list()\n",
    "        shape[-1] = self.output_dim\n",
    "        return tf.TensorShape(shape)\n",
    "\n",
    "    def get_config(self):\n",
    "        base_config = super().get_config()\n",
    "        base_config['output_dim'] = self.output_dim\n",
    "        return base_config\n",
    "\n",
    "    @classmethod\n",
    "    def from_config(cls, config):\n",
    "        return cls(**config)\n",
    "\n",
    "model = tf.keras.Sequential(\n",
    "[\n",
    "    tf.keras.Input(shape=(32)),\n",
    "    MyLayer1(32, 32),\n",
    "    MyLayer2(10),\n",
    "    ActivityRegularizationLayer(),\n",
    "    MetricLoggingLayer(),\n",
    "    layers.Activation('softmax')\n",
    "])\n",
    "model.summary()\n"
   ]
  },
  {
   "cell_type": "markdown",
   "metadata": {},
   "source": [
    "# 自定义Model"
   ]
  },
  {
   "cell_type": "code",
   "execution_count": 17,
   "metadata": {},
   "outputs": [
    {
     "name": "stdout",
     "output_type": "stream",
     "text": [
      "Model: \"model\"\n",
      "_________________________________________________________________\n",
      "Layer (type)                 Output Shape              Param #   \n",
      "=================================================================\n",
      "input_8 (InputLayer)         [(None, 28)]              0         \n",
      "_________________________________________________________________\n",
      "my_model (MyModel)           (None, 10)                1258      \n",
      "=================================================================\n",
      "Total params: 1,258\n",
      "Trainable params: 1,258\n",
      "Non-trainable params: 0\n",
      "_________________________________________________________________\n"
     ]
    }
   ],
   "source": [
    "\"\"\"\n",
    "通过对 tf.keras.Model 进行子类化并定义您自己的前向传播来构建完全可自定义的模型。在 init 方法中创建层并将它们设置为类实例的属性。在 call 方法中定义前向传播\n",
    "\"\"\"\n",
    "import tensorflow as tf\n",
    "from tensorflow.keras import layers\n",
    "from tensorflow.keras.layers import Dense, GlobalAveragePooling2D\n",
    "from tensorflow.keras.models import Model\n",
    "\n",
    "class MyModel(tf.keras.Model):\n",
    "    def __init__(self, num_classes=10):\n",
    "        super(MyModel, self).__init__(name='my_model')\n",
    "        self.num_classes = num_classes\n",
    "        self.layer1 = layers.Dense(32, activation='relu')\n",
    "        self.layer2 = layers.Dense(num_classes, activation='softmax')\n",
    "        \n",
    "    def call(self, inputs):\n",
    "        h1 = self.layer1(inputs)\n",
    "        out = self.layer2(h1)\n",
    "        return out\n",
    "\n",
    "    def compute_output_shape(self, input_shape):\n",
    "        shape = tf.TensorShape(input_shape).as_list()\n",
    "        shape[-1] = self.num_classes\n",
    "        return tf.TensorShape(shape)\n",
    "\n",
    "inputs = tf.keras.Input(shape=(28))\n",
    "outputs = MyModel(num_classes=10)(inputs)\n",
    "\n",
    "model = tf.keras.Model(inputs, outputs)\n",
    "model.summary()"
   ]
  }
 ],
 "metadata": {
  "kernelspec": {
   "display_name": "Python 3",
   "language": "python",
   "name": "python3"
  },
  "language_info": {
   "codemirror_mode": {
    "name": "ipython",
    "version": 3
   },
   "file_extension": ".py",
   "mimetype": "text/x-python",
   "name": "python",
   "nbconvert_exporter": "python",
   "pygments_lexer": "ipython3",
   "version": "3.7.4"
  }
 },
 "nbformat": 4,
 "nbformat_minor": 4
}
